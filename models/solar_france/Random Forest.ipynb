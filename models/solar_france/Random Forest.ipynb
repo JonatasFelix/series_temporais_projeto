{
 "cells": [
  {
   "cell_type": "markdown",
   "id": "e807d5b9",
   "metadata": {},
   "source": [
    "# Random Forest - Produção Solar França\n",
    "\n",
    "Modelo de floresta aleatória com engenharia de features temporais, validação temporal e tuning de hiperparâmetros."
   ]
  },
  {
   "cell_type": "code",
   "execution_count": null,
   "id": "9ebb054c",
   "metadata": {},
   "outputs": [],
   "source": [
    "# Imports\n",
    "import pandas as pd\n",
    "import numpy as np\n",
    "import matplotlib.pyplot as plt\n",
    "import seaborn as sns\n",
    "from sklearn.ensemble import RandomForestRegressor\n",
    "from sklearn.model_selection import TimeSeriesSplit, GridSearchCV\n",
    "from sklearn.preprocessing import StandardScaler\n",
    "from sklearn.metrics import mean_squared_error, mean_absolute_error, r2_score\n",
    "import os, json, warnings\n",
    "warnings.filterwarnings('ignore')\n",
    "\n",
    "output_dir = '../../out/solar_france/RandomForest'\n",
    "os.makedirs(output_dir, exist_ok=True)\n",
    "\n",
    "plt.style.use('seaborn-v0_8')\n",
    "plt.rcParams['figure.figsize']=(12,6)\n",
    "sns.set_palette('husl')"
   ]
  },
  {
   "cell_type": "markdown",
   "id": "6765f927",
   "metadata": {},
   "source": [
    "## 1. Carregar Dados"
   ]
  },
  {
   "cell_type": "code",
   "execution_count": null,
   "id": "41318e80",
   "metadata": {},
   "outputs": [],
   "source": [
    "# Carregar dados\n",
    "data_path = '../../data/solar_france.xlsx'\n",
    "df = pd.read_excel(data_path)\n",
    "df['Date and Hour'] = pd.to_datetime(df['Date and Hour'])\n",
    "df = df.set_index('Date and Hour').sort_index().dropna()\n",
    "\n",
    "print('Shape:', df.shape)\n",
    "print('Período:', df.index.min(), '->', df.index.max())\n",
    "print('Frequência:', pd.infer_freq(df.index))\n",
    "print('\\nPrimeiras linhas:')\n",
    "df.head()"
   ]
  },
  {
   "cell_type": "markdown",
   "id": "1adc2b91",
   "metadata": {},
   "source": [
    "## 2. Feature Engineering"
   ]
  },
  {
   "cell_type": "code",
   "execution_count": null,
   "id": "5f1794fc",
   "metadata": {},
   "outputs": [],
   "source": [
    "def create_features(data, n_lags=48):\n",
    "    \"\"\"\n",
    "    Criar features temporais para Random Forest\n",
    "    \"\"\"\n",
    "    X = pd.DataFrame(index=data.index)\n",
    "    y = data['Production']\n",
    "    \n",
    "    # Lags\n",
    "    for i in range(1, n_lags+1):\n",
    "        X[f'lag_{i}'] = y.shift(i)\n",
    "    \n",
    "    # Rolling statistics\n",
    "    for w in [3, 6, 12, 24, 48, 96]:\n",
    "        X[f'roll_mean_{w}'] = y.rolling(w).mean()\n",
    "        X[f'roll_std_{w}'] = y.rolling(w).std()\n",
    "        X[f'roll_max_{w}'] = y.rolling(w).max()\n",
    "        X[f'roll_min_{w}'] = y.rolling(w).min()\n",
    "    \n",
    "    # Features temporais\n",
    "    X['hour'] = data.index.hour\n",
    "    X['dow'] = data.index.dayofweek\n",
    "    X['month'] = data.index.month\n",
    "    X['day'] = data.index.day\n",
    "    X['quarter'] = data.index.quarter\n",
    "    \n",
    "    # Codificação cíclica\n",
    "    X['hour_sin'] = np.sin(2*np.pi*X['hour']/24)\n",
    "    X['hour_cos'] = np.cos(2*np.pi*X['hour']/24)\n",
    "    X['dow_sin'] = np.sin(2*np.pi*X['dow']/7)\n",
    "    X['dow_cos'] = np.cos(2*np.pi*X['dow']/7)\n",
    "    X['month_sin'] = np.sin(2*np.pi*X['month']/12)\n",
    "    X['month_cos'] = np.cos(2*np.pi*X['month']/12)\n",
    "    \n",
    "    return X, y\n",
    "\n",
    "# Criar features\n",
    "X, y = create_features(df, n_lags=48)\n",
    "data = pd.concat([X, y.rename('target')], axis=1).dropna()\n",
    "X, y = data.drop('target', axis=1), data['target']\n",
    "\n",
    "print(f'Features: {X.shape[1]}')\n",
    "print(f'Amostras: {len(X)}')\n",
    "print(f'\\nExemplo de features:')\n",
    "print(X.columns[:15].tolist())"
   ]
  },
  {
   "cell_type": "markdown",
   "id": "47f5d5d9",
   "metadata": {},
   "source": [
    "## 3. Divisão e Preparação"
   ]
  },
  {
   "cell_type": "code",
   "execution_count": null,
   "id": "0fb60be5",
   "metadata": {},
   "outputs": [],
   "source": [
    "# Divisão treino-teste (80-20)\n",
    "train_size = int(len(X) * 0.8)\n",
    "X_train, X_test = X.iloc[:train_size], X.iloc[train_size:]\n",
    "y_train, y_test = y.iloc[:train_size], y.iloc[train_size:]\n",
    "\n",
    "print(f'Treino: {len(X_train)} | Teste: {len(X_test)}')\n",
    "\n",
    "# Normalização (opcional para RF, mas pode ajudar)\n",
    "scaler = StandardScaler()\n",
    "X_train_scaled = scaler.fit_transform(X_train)\n",
    "X_test_scaled = scaler.transform(X_test)\n",
    "\n",
    "print('Dados preparados!')"
   ]
  },
  {
   "cell_type": "markdown",
   "id": "5821faf4",
   "metadata": {},
   "source": [
    "## 4. Grid Search"
   ]
  },
  {
   "cell_type": "code",
   "execution_count": null,
   "id": "934265b4",
   "metadata": {},
   "outputs": [],
   "source": [
    "# Grid de hiperparâmetros\n",
    "param_grid = {\n",
    "    'n_estimators': [200, 400],\n",
    "    'max_depth': [10, 20, None],\n",
    "    'min_samples_split': [2, 5],\n",
    "    'min_samples_leaf': [1, 2],\n",
    "    'max_features': ['sqrt', 0.5]\n",
    "}\n",
    "\n",
    "# Random Forest base\n",
    "rf = RandomForestRegressor(\n",
    "    random_state=42,\n",
    "    n_jobs=-1,\n",
    "    verbose=0\n",
    ")\n",
    "\n",
    "# Time Series Cross-Validation\n",
    "tscv = TimeSeriesSplit(n_splits=5)\n",
    "\n",
    "print('Iniciando Grid Search...')\n",
    "grid = GridSearchCV(\n",
    "    rf,\n",
    "    param_grid,\n",
    "    cv=tscv,\n",
    "    scoring='neg_mean_squared_error',\n",
    "    n_jobs=-1,\n",
    "    verbose=1\n",
    ")\n",
    "\n",
    "# Usar amostra para acelerar\n",
    "sample = min(10000, len(X_train_scaled))\n",
    "grid.fit(X_train_scaled[:sample], y_train.iloc[:sample])\n",
    "\n",
    "print('\\nMelhores parâmetros:', grid.best_params_)\n",
    "print('Melhor CV MSE:', -grid.best_score_)"
   ]
  },
  {
   "cell_type": "markdown",
   "id": "14d171c0",
   "metadata": {},
   "source": [
    "## 5. Modelo Final"
   ]
  },
  {
   "cell_type": "code",
   "execution_count": null,
   "id": "9c83a93c",
   "metadata": {},
   "outputs": [],
   "source": [
    "# Treinar com todos os dados de treino\n",
    "best_rf = grid.best_estimator_\n",
    "best_rf.fit(X_train_scaled, y_train)\n",
    "\n",
    "# Previsões\n",
    "y_pred_train = best_rf.predict(X_train_scaled)\n",
    "y_pred_test = best_rf.predict(X_test_scaled)\n",
    "\n",
    "print('Modelo treinado e previsões feitas!')"
   ]
  },
  {
   "cell_type": "markdown",
   "id": "072be47b",
   "metadata": {},
   "source": [
    "## 6. Avaliação"
   ]
  },
  {
   "cell_type": "code",
   "execution_count": null,
   "id": "ed9fab02",
   "metadata": {},
   "outputs": [],
   "source": [
    "# Métricas\n",
    "mse = mean_squared_error(y_test, y_pred_test)\n",
    "rmse = np.sqrt(mse)\n",
    "mae = mean_absolute_error(y_test, y_pred_test)\n",
    "mape = np.mean(np.abs((y_test - y_pred_test) / (y_test + 1e-10))) * 100\n",
    "r2 = r2_score(y_test, y_pred_test)\n",
    "\n",
    "print('='*50)\n",
    "print('MÉTRICAS - RANDOM FOREST')\n",
    "print('='*50)\n",
    "print(f'RMSE: {rmse:.2f}')\n",
    "print(f'MAE: {mae:.2f}')\n",
    "print(f'MAPE: {mape:.2f}%')\n",
    "print(f'R²: {r2:.4f}')\n",
    "\n",
    "# Visualização\n",
    "fig, axes = plt.subplots(2, 1, figsize=(15, 10))\n",
    "\n",
    "# Predições vs Real\n",
    "axes[0].plot(y_test.index, y_test.values, label='Real', alpha=0.7)\n",
    "axes[0].plot(y_test.index, y_pred_test, label='Previsto', alpha=0.7)\n",
    "axes[0].set_title('Random Forest - Previsões vs Real')\n",
    "axes[0].set_ylabel('Produção (MW)')\n",
    "axes[0].legend()\n",
    "axes[0].grid(True, alpha=0.3)\n",
    "\n",
    "# Scatter\n",
    "axes[1].scatter(y_test, y_pred_test, alpha=0.5)\n",
    "axes[1].plot([y_test.min(), y_test.max()], [y_test.min(), y_test.max()], 'r--', lw=2)\n",
    "axes[1].set_xlabel('Real')\n",
    "axes[1].set_ylabel('Previsto')\n",
    "axes[1].set_title('Real vs Previsto')\n",
    "axes[1].grid(True, alpha=0.3)\n",
    "\n",
    "plt.tight_layout()\n",
    "plt.savefig(f'{output_dir}/rf_predictions.png', dpi=300, bbox_inches='tight')\n",
    "plt.show()"
   ]
  },
  {
   "cell_type": "markdown",
   "id": "3cffa4ec",
   "metadata": {},
   "source": [
    "## 7. Importância de Features"
   ]
  },
  {
   "cell_type": "code",
   "execution_count": null,
   "id": "ee93d305",
   "metadata": {},
   "outputs": [],
   "source": [
    "# Importância de features\n",
    "importances = best_rf.feature_importances_\n",
    "feature_importance = pd.DataFrame({\n",
    "    'feature': X.columns,\n",
    "    'importance': importances\n",
    "}).sort_values('importance', ascending=False)\n",
    "\n",
    "print('\\nTop 20 features mais importantes:')\n",
    "print(feature_importance.head(20))\n",
    "\n",
    "# Visualização\n",
    "fig, ax = plt.subplots(figsize=(12, 8))\n",
    "top_n = 20\n",
    "top_features = feature_importance.head(top_n)\n",
    "ax.barh(range(top_n), top_features['importance'])\n",
    "ax.set_yticks(range(top_n))\n",
    "ax.set_yticklabels(top_features['feature'])\n",
    "ax.invert_yaxis()\n",
    "ax.set_xlabel('Importância')\n",
    "ax.set_title(f'Top {top_n} Features Mais Importantes')\n",
    "ax.grid(True, alpha=0.3)\n",
    "plt.tight_layout()\n",
    "plt.savefig(f'{output_dir}/feature_importance.png', dpi=300, bbox_inches='tight')\n",
    "plt.show()\n",
    "\n",
    "# Salvar importâncias\n",
    "feature_importance.to_csv(f'{output_dir}/feature_importance.csv', index=False)"
   ]
  },
  {
   "cell_type": "markdown",
   "id": "26532539",
   "metadata": {},
   "source": [
    "## 8. Salvar Resultados"
   ]
  },
  {
   "cell_type": "code",
   "execution_count": null,
   "id": "632d7f9d",
   "metadata": {},
   "outputs": [],
   "source": [
    "# Salvar previsões\n",
    "pred_df = pd.DataFrame({\n",
    "    'real': y_test,\n",
    "    'previsto': y_pred_test\n",
    "}, index=y_test.index)\n",
    "pred_df.to_csv(f'{output_dir}/rf_predictions.csv')\n",
    "\n",
    "# Salvar métricas e parâmetros\n",
    "results = {\n",
    "    'model': 'RandomForest',\n",
    "    'dataset': 'solar_france',\n",
    "    'best_params': grid.best_params_,\n",
    "    'metrics': {\n",
    "        'mse': float(mse),\n",
    "        'rmse': float(rmse),\n",
    "        'mae': float(mae),\n",
    "        'mape': float(mape),\n",
    "        'r2': float(r2)\n",
    "    },\n",
    "    'n_features': X.shape[1],\n",
    "    'train_size': len(X_train),\n",
    "    'test_size': len(X_test)\n",
    "}\n",
    "\n",
    "with open(f'{output_dir}/rf_results.json', 'w') as f:\n",
    "    json.dump(results, f, indent=2)\n",
    "\n",
    "print(f'\\n✓ Resultados salvos em {output_dir}/')"
   ]
  }
 ],
 "metadata": {
  "language_info": {
   "name": "python"
  }
 },
 "nbformat": 4,
 "nbformat_minor": 5
}
