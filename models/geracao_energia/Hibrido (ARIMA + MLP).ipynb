{
 "cells": [
  {
   "cell_type": "code",
   "execution_count": null,
   "id": "78fd1567",
   "metadata": {},
   "outputs": [],
   "source": [
    "import pandas as pd\n",
    "import numpy as np\n",
    "import os\n",
    "from pathlib import Path\n",
    "from statsmodels.tsa.arima.model import ARIMA\n",
    "from sklearn.neural_network import MLPRegressor\n",
    "import matplotlib.pyplot as plt"
   ]
  },
  {
   "cell_type": "code",
   "execution_count": null,
   "id": "dc582390",
   "metadata": {},
   "outputs": [],
   "source": [
    "def make_supervised(series, lags=5):\n",
    "    data = pd.DataFrame({\"y\": series})\n",
    "    for L in range(1, lags+1):\n",
    "        data[f\"lag_{L}\"] = series.shift(L)\n",
    "    data = data.dropna()\n",
    "    X = data.drop(\"y\", axis=1).values\n",
    "    y_out = data[\"y\"].values\n",
    "    return X, y_out, data.index"
   ]
  },
  {
   "cell_type": "code",
   "execution_count": null,
   "id": "0b6b99fc",
   "metadata": {},
   "outputs": [],
   "source": [
    "CAMINHO_RAIZ = Path(os.getcwd()).resolve().parent.parent\n",
    "OUTPUT = CAMINHO_RAIZ / 'out_geracao_energia'\n",
    "os.makedirs(OUTPUT, exist_ok=True)\n",
    "\n",
    "solar = pd.read_excel(CAMINHO_RAIZ / 'data' / 'solar france.xlsx')\n",
    "print('Dimensões do dataset:', solar.shape)\n",
    "print('Colunas:', solar.columns.tolist())\n",
    "display(solar.head(8))"
   ]
  },
  {
   "cell_type": "code",
   "execution_count": null,
   "id": "a49d7445",
   "metadata": {},
   "outputs": [],
   "source": [
    "y = solar[\"Production\"].astype(float)\n",
    "\n",
    "# Divisão temporal\n",
    "n = len(y)\n",
    "n_train = int(0.5 * n)\n",
    "n_val   = int(0.25 * n)\n",
    "\n",
    "train = y.iloc[:n_train]\n",
    "val   = y.iloc[n_train:n_train+n_val]\n",
    "test  = y.iloc[n_train+n_val:]"
   ]
  },
  {
   "cell_type": "code",
   "execution_count": null,
   "id": "4df8eb14",
   "metadata": {},
   "outputs": [],
   "source": [
    "arima_model = ARIMA(train, order=(2,1,2))\n",
    "arima_res = arima_model.fit()\n",
    "\n",
    "# Previsão na validação\n",
    "arima_val_pred = arima_res.get_forecast(steps=len(val)).predicted_mean\n",
    "\n",
    "# Previsão no teste (treino + validação como histórico)\n",
    "arima_test_model = ARIMA(pd.concat([train, val]), order=(2,1,2))\n",
    "arima_test_res = arima_test_model.fit()\n",
    "arima_test_pred = arima_test_res.get_forecast(steps=len(test)).predicted_mean"
   ]
  },
  {
   "cell_type": "code",
   "execution_count": null,
   "id": "a29e428d",
   "metadata": {},
   "outputs": [],
   "source": [
    "# Criar dataset supervisionado\n",
    "X_all, y_all, idx_all = make_supervised(y, lags=5)\n",
    "\n",
    "# Separar em treino/val/test respeitando índices\n",
    "train_mask = idx_all < val.index[0]\n",
    "val_mask   = (idx_all >= val.index[0]) & (idx_all < test.index[0])\n",
    "test_mask  = idx_all >= test.index[0]\n",
    "\n",
    "X_train, y_train = X_all[train_mask], y_all[train_mask]\n",
    "X_val, y_val     = X_all[val_mask], y_all[val_mask]\n",
    "X_test, y_test   = X_all[test_mask], y_all[test_mask]"
   ]
  },
  {
   "cell_type": "code",
   "execution_count": null,
   "id": "af650cb6",
   "metadata": {},
   "outputs": [],
   "source": [
    "mlp = MLPRegressor(\n",
    "    hidden_layer_sizes=(50,50),\n",
    "    max_iter=500,\n",
    "    early_stopping=True,\n",
    "    n_iter_no_change=20,\n",
    "    tol=1e-5,\n",
    "    random_state=42,\n",
    "    verbose=False)\n",
    "mlp.fit(X_train, y_train)\n",
    "\n",
    "mlp_val_pred = mlp.predict(X_val)\n",
    "mlp_test_pred = mlp.predict(X_test)"
   ]
  },
  {
   "cell_type": "code",
   "execution_count": null,
   "id": "da134d4e",
   "metadata": {},
   "outputs": [],
   "source": [
    "w_arima, w_mlp = 0.5, 0.5\n",
    "\n",
    "# Alinhar comprimentos\n",
    "val_len = min(len(arima_val_pred), len(mlp_val_pred))\n",
    "test_len = min(len(arima_test_pred), len(mlp_test_pred))\n",
    "\n",
    "hyb_val_pred = w_arima*np.array(arima_val_pred[-val_len:]) + w_mlp*np.array(mlp_val_pred[-val_len:])\n",
    "hyb_test_pred = w_arima*np.array(arima_test_pred[-test_len:]) + w_mlp*np.array(mlp_test_pred[-test_len:])"
   ]
  },
  {
   "cell_type": "code",
   "execution_count": null,
   "id": "7b22432d",
   "metadata": {},
   "outputs": [],
   "source": [
    "def mse(y_true, y_pred):\n",
    "    return np.mean((np.array(y_true) - np.array(y_pred))**2)\n",
    "\n",
    "def mape(y_true, y_pred):\n",
    "    y_true = np.array(y_true)\n",
    "    denom = np.where(y_true==0, 1e-8, y_true)\n",
    "    return np.mean(np.abs((y_true - y_pred)/denom))*100\n",
    "\n",
    "print(\"ARIMA - Val:\", mse(val, arima_val_pred), mape(val, arima_val_pred))\n",
    "print(\"MLP   - Val:\", mse(y_val, mlp_val_pred), mape(y_val, mlp_val_pred))\n",
    "print(\"Híbrido - Val:\", mse(y_val[-val_len:], hyb_val_pred), mape(y_val[-val_len:], hyb_val_pred))\n",
    "\n",
    "print(\"ARIMA - Test:\", mse(test, arima_test_pred), mape(test, arima_test_pred))\n",
    "print(\"MLP   - Test:\", mse(y_test, mlp_test_pred), mape(y_test, mlp_test_pred))\n",
    "print(\"Híbrido - Test:\", mse(y_test[-test_len:], hyb_test_pred), mape(y_test[-test_len:], hyb_test_pred))"
   ]
  },
  {
   "cell_type": "code",
   "execution_count": null,
   "id": "3b40ee03",
   "metadata": {},
   "outputs": [],
   "source": [
    "stages = [\"Validação\", \"Teste\"]\n",
    "mse_scores = [mse(y_val[-val_len:], hyb_val_pred), mse(y_test[-test_len:], hyb_test_pred)]\n",
    "mape_scores = [mape(y_val[-val_len:], hyb_val_pred), mape(y_test[-test_len:], hyb_test_pred)]\n",
    "\n",
    "# Criar figura com 2 subplots lado a lado\n",
    "fig, axes = plt.subplots(1, 2, figsize=(12,5))\n",
    "\n",
    "# --- Gráfico do MSE ---\n",
    "axes[0].bar(stages, mse_scores, color=\"royalblue\")\n",
    "axes[0].set_title(\"MSE - Modelo Híbrido\")\n",
    "axes[0].set_ylabel(\"Erro Quadrático Médio\")\n",
    "axes[0].grid(axis=\"y\", linestyle=\"--\", alpha=0.7)\n",
    "\n",
    "# --- Gráfico do MAPE ---\n",
    "axes[1].bar(stages, mape_scores, color=\"seagreen\")\n",
    "axes[1].set_title(\"MAPE - Modelo Híbrido\")\n",
    "axes[1].set_ylabel(\"Erro Percentual Absoluto Médio (%)\")\n",
    "axes[1].grid(axis=\"y\", linestyle=\"--\", alpha=0.7)\n",
    "\n",
    "# Título geral\n",
    "fig.suptitle(\"Desempenho do Modelo Híbrido (ARIMA + MLP) - Geração de Energia Solar\", fontsize=14, fontweight=\"bold\")\n",
    "\n",
    "plt.tight_layout()\n",
    "plt.savefig(OUTPUT / \"Hibrido - Desempenho do Modelo Híbrido (ARIMA + MLP).png\")\n",
    "plt.show()"
   ]
  },
  {
   "cell_type": "code",
   "execution_count": null,
   "id": "4ef2623c",
   "metadata": {},
   "outputs": [],
   "source": [
    "residuos_val = y_val[-len(hyb_val_pred):] - hyb_val_pred\n",
    "\n",
    "plt.figure(figsize=(6,4))\n",
    "plt.hist(residuos_val, bins=20, color=\"purple\", alpha=0.7)\n",
    "plt.title(\"Distribuição dos Resíduos - Validação\")\n",
    "plt.xlabel(\"Erro\")\n",
    "plt.ylabel(\"Frequência\")\n",
    "plt.savefig(OUTPUT / \"Hibrido - Distribuição dos Resíduos - Validação.png\")\n",
    "plt.show()"
   ]
  },
  {
   "cell_type": "code",
   "execution_count": null,
   "id": "e91ca467",
   "metadata": {},
   "outputs": [],
   "source": [
    "plt.figure(figsize=(6,6))\n",
    "plt.scatter(y_val[-len(hyb_val_pred):], hyb_val_pred, alpha=0.7, color=\"teal\")\n",
    "plt.plot([y_val.min(), y_val.max()], [y_val.min(), y_val.max()], \"r--\")  # linha ideal\n",
    "plt.title(\"Valores Reais vs Previstos - Validação\")\n",
    "plt.xlabel(\"Reais\")\n",
    "plt.ylabel(\"Previstos\")\n",
    "plt.savefig(OUTPUT / 'Hibrido - Valores Reais vs Previstos - Validação.png')\n",
    "plt.show()"
   ]
  }
 ],
 "metadata": {
  "language_info": {
   "name": "python"
  }
 },
 "nbformat": 4,
 "nbformat_minor": 5
}
