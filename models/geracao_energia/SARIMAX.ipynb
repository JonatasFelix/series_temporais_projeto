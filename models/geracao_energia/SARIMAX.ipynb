{
 "cells": [
  {
   "cell_type": "code",
   "execution_count": null,
   "id": "b9921229",
   "metadata": {},
   "outputs": [],
   "source": [
    "import pandas as pd\n",
    "import os\n",
    "from sklearn.metrics import mean_squared_error, mean_absolute_percentage_error\n",
    "from pathlib import Path\n",
    "import numpy as np\n",
    "from scipy.stats import boxcox\n",
    "from statsmodels.tsa.statespace.sarimax import SARIMAX\n",
    "import statsmodels.api as sm\n",
    "import matplotlib.pyplot as plt\n",
    "from statsmodels.stats.diagnostic import acorr_ljungbox\n",
    "from statsmodels.graphics.tsaplots import plot_acf, plot_pacf"
   ]
  },
  {
   "cell_type": "code",
   "execution_count": null,
   "id": "b91510e3",
   "metadata": {},
   "outputs": [],
   "source": [
    "def inverse_boxcox(y, lmbda):\n",
    "    \"\"\"\n",
    "    Reverte a transformação Box-cox para a escala original\n",
    "    \"\"\"\n",
    "    if lmbda == 0:\n",
    "        return np.exp(y)\n",
    "    return np.exp(np.log(lmbda * y + 1)/ lmbda)"
   ]
  },
  {
   "cell_type": "code",
   "execution_count": null,
   "id": "82230b22",
   "metadata": {},
   "outputs": [],
   "source": [
    "CAMINHO_RAIZ = Path(os.getcwd()).resolve().parent.parent\n",
    "OUTPUT = CAMINHO_RAIZ / 'out_geracao_energia'\n",
    "os.makedirs(OUTPUT, exist_ok=True)\n",
    "\n",
    "solar = pd.read_excel(CAMINHO_RAIZ / 'data' / 'solar france.xlsx')\n",
    "print('Dimensões do dataset:', solar.shape)\n",
    "print('Colunas:', solar.columns.tolist())\n",
    "display(solar.head(8))"
   ]
  },
  {
   "cell_type": "code",
   "execution_count": null,
   "id": "2a5909d1",
   "metadata": {},
   "outputs": [],
   "source": [
    "solar.head()"
   ]
  },
  {
   "cell_type": "code",
   "execution_count": null,
   "id": "31320f6a",
   "metadata": {},
   "outputs": [],
   "source": [
    "solar['Date and Hour'] = pd.to_datetime(solar['Date and Hour'])\n",
    "solar.set_index('Date and Hour', inplace=True)\n",
    "solar.sort_index(inplace=True)"
   ]
  },
  {
   "cell_type": "markdown",
   "id": "c7d99c18",
   "metadata": {},
   "source": [
    "Divisão do Treinamento"
   ]
  },
  {
   "cell_type": "code",
   "execution_count": null,
   "id": "e0ab5638",
   "metadata": {},
   "outputs": [],
   "source": [
    "n_obs = len(solar)\n",
    "p_train = 0.50\n",
    "p_val = 0.25\n",
    "n_train = int(n_obs * p_train)\n",
    "n_val = int(n_obs * p_val)\n",
    "n_test = n_obs - n_train - n_val\n",
    "\n",
    "solar_train = solar.iloc[:n_train]\n",
    "solar_val = solar.iloc[n_train: n_train + n_val]\n",
    "solar_test = solar.iloc[n_train + n_val:]"
   ]
  },
  {
   "cell_type": "code",
   "execution_count": null,
   "id": "7629a0e5",
   "metadata": {},
   "outputs": [],
   "source": [
    "# lambda_boxcox: O parâmetro ideal (lambda) encontrado. Se lambda=0, é a transformação logarítmica.\n",
    "# Adicionar um pequeno valor para evitar zeros (problema com Box-Cox)\n",
    "solar_adjusted = solar['Production'] + 1e-6\n",
    "data_boxcox, lambda_boxcox = boxcox(solar_adjusted)\n",
    "lambda_boxcox = round(lambda_boxcox, 3)\n",
    "\n",
    "ts_train_boxcox = boxcox(solar_train['Production'] + 1e-6, lambda_boxcox)\n",
    "solar_train_boxcox = pd.DataFrame(ts_train_boxcox, index=solar_train.index, columns=['production_bc'])"
   ]
  },
  {
   "cell_type": "markdown",
   "id": "2072b687",
   "metadata": {},
   "source": [
    "Treinamento do Modelo SARIMA"
   ]
  },
  {
   "cell_type": "code",
   "execution_count": null,
   "id": "107bffe8",
   "metadata": {},
   "outputs": [],
   "source": [
    "# Para dados horários de energia solar, usamos sazonalidade de 24 horas\n",
    "order = (0, 1, 1)\n",
    "seasonal_order = (2, 1, 0, 24)\n",
    "\n",
    "model = SARIMAX(solar_train_boxcox['production_bc'],\n",
    "                order=order,\n",
    "                seasonal_order=seasonal_order,\n",
    "                enforce_stationarity=False,\n",
    "                enforce_invertibility=False)\n",
    "\n",
    "\n",
    "results = model.fit(disp=False)"
   ]
  },
  {
   "cell_type": "code",
   "execution_count": null,
   "id": "7a279c62",
   "metadata": {},
   "outputs": [],
   "source": [
    "residuals = results.resid\n",
    "residuals_std = (residuals - np.mean(residuals)) / np.std(residuals)\n",
    "sm.qqplot(residuals_std, line='45', fit=True)\n",
    "plt.xlim(-2, 2)\n",
    "plt.ylim(-2, 2)\n",
    "plt.title(\"Q-Q Plot dos Resíduos Padronizados\")\n",
    "plt.savefig(OUTPUT / 'SARIMAX - Q-Q Plot dos Resíduos Padronizados.png')\n",
    "plt.show()"
   ]
  },
  {
   "cell_type": "code",
   "execution_count": null,
   "id": "f1d847fb",
   "metadata": {},
   "outputs": [],
   "source": [
    "# Correlograma (ACF)\n",
    "plt.figure(figsize=(8,5))\n",
    "plot_acf(residuals_std, lags=20, alpha=0.05)  # alpha=0.05 adiciona as bandas de confiança\n",
    "plt.title(\"Correlograma (ACF) dos Resíduos\")\n",
    "plt.xlabel(\"Lags\")\n",
    "plt.ylabel(\"Autocorrelação\")\n",
    "plt.savefig(OUTPUT / 'SARIMAX - Correlograma (ACF) dos Resíduos.png')\n",
    "plt.show()"
   ]
  },
  {
   "cell_type": "code",
   "execution_count": null,
   "id": "2c1e9362",
   "metadata": {},
   "outputs": [],
   "source": [
    "plt.figure(figsize=(8,5))\n",
    "plot_pacf(residuals_std, lags=20, alpha=0.05, method='ywm')\n",
    "plt.title(\"Correlograma (PACF) dos Resíduos\")\n",
    "plt.xlabel(\"Lags\")\n",
    "plt.ylabel(\"Parcial Autocorrelação\")\n",
    "plt.savefig(OUTPUT / 'SARIMAX - Correlograma (PACF) dos Resíduos.png')\n",
    "plt.show()"
   ]
  },
  {
   "cell_type": "code",
   "execution_count": null,
   "id": "116cc615",
   "metadata": {},
   "outputs": [],
   "source": [
    "ljung_box = acorr_ljungbox(residuals_std, lags=20, return_df=True)\n",
    "# Extraindo p-valores\n",
    "pvalues = ljung_box['lb_pvalue']\n",
    "# Opcional: gráfico dos p-valores\n",
    "plt.figure(figsize=(8,5))\n",
    "plt.plot(ljung_box.index, pvalues, marker='o', linestyle='-')\n",
    "plt.axhline(y=0.05, color='red', linestyle='--', label='Nível de 5%')\n",
    "plt.title(\"Validação com Teste de Ljung-Box\")\n",
    "plt.xlabel(\"Lags\")\n",
    "plt.ylabel(\"p-valor\")\n",
    "plt.legend()\n",
    "plt.savefig(OUTPUT / 'SARIMAX - Validação com Teste de Ljung-Box.png')\n",
    "plt.show()"
   ]
  },
  {
   "cell_type": "code",
   "execution_count": null,
   "id": "3e9a274c",
   "metadata": {},
   "outputs": [],
   "source": [
    "pred_train_bc = results.get_prediction(start=solar_val.index.min(),\n",
    "                                       end=solar_val.index.max(),\n",
    "                                       dynamic=False)\n",
    "pred_train_values_bc = pred_train_bc.predicted_mean\n",
    "\n",
    "pred_train_orig = inverse_boxcox(pred_train_values_bc, lambda_boxcox) - 1e-6\n",
    "y_train_orig = solar_val['Production'].values\n",
    "\n",
    "mse_train = mean_squared_error(y_train_orig, pred_train_orig)\n",
    "mape_train = mean_absolute_percentage_error(y_train_orig, pred_train_orig)\n",
    "print(f\"MSE Treinamento: {mse_train}\")\n",
    "print(f\"MAPE Treinamento: {mape_train}\")"
   ]
  },
  {
   "cell_type": "code",
   "execution_count": null,
   "id": "995f629b",
   "metadata": {},
   "outputs": [],
   "source": [
    "# O parâmetro steps define quantos passos à frente queremos prever.\n",
    "forecast_test_bc = results.get_forecast(steps=len(solar_test))\n",
    "forecast_values_bc = forecast_test_bc.predicted_mean\n",
    "\n",
    "# Reverte a previsão do teste para a escala original.\n",
    "forecast_test_orig = inverse_boxcox(forecast_values_bc, lmbda=lambda_boxcox) - 1e-6\n",
    "y_test_orig = solar_test['Production'].values\n",
    "\n",
    "# Cálculo do EQM (MSE) e MAPE para o teste.\n",
    "mse_test = mean_squared_error(y_test_orig, forecast_test_orig)\n",
    "mape_test = mean_absolute_percentage_error(y_test_orig, forecast_test_orig)\n",
    "print(mse_test)\n",
    "print(mape_test)"
   ]
  },
  {
   "cell_type": "code",
   "execution_count": null,
   "id": "b637559f",
   "metadata": {},
   "outputs": [],
   "source": [
    "labels = ['Treino', 'Validação']\n",
    "mse_values = [mse_train, mse_test]\n",
    "mape_values = [mape_train, mape_test]\n",
    "\n",
    "x = np.arange(len(labels))  # posições no eixo X\n",
    "width = 0.35  # largura das barras\n",
    "\n",
    "fig, ax1 = plt.subplots(figsize=(8,5))\n",
    "\n",
    "# Barras para MSE\n",
    "rects1 = ax1.bar(x - width/2, mse_values, width, label='MSE', color='skyblue')\n",
    "\n",
    "# Criando um segundo eixo Y para o MAPE (porque está em outra escala)\n",
    "ax2 = ax1.twinx()\n",
    "rects2 = ax2.bar(x + width/2, mape_values, width, label='MAPE', color='orange')\n",
    "\n",
    "# Ajustes de rótulos\n",
    "ax1.set_xlabel('Conjunto')\n",
    "ax1.set_ylabel('MSE', color='skyblue')\n",
    "ax2.set_ylabel('MAPE', color='orange')\n",
    "ax1.set_xticks(x)\n",
    "ax1.set_xticklabels(labels)\n",
    "plt.title(\"Comparação de MSE e MAPE - Treino vs Validação\")\n",
    "# Legenda combinada\n",
    "fig.legend(loc=\"upper center\", bbox_to_anchor=(0.5, 1.05), ncol=2)\n",
    "fig.savefig(OUTPUT / 'SARIMAX - Comparação de MSE e MAPE - Treino vs Validação.png')\n",
    "plt.show()"
   ]
  }
 ],
 "metadata": {
  "language_info": {
   "name": "python"
  }
 },
 "nbformat": 4,
 "nbformat_minor": 5
}
